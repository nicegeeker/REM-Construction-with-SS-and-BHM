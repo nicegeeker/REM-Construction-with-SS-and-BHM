{
 "cells": [
  {
   "cell_type": "code",
   "execution_count": 1,
   "metadata": {},
   "outputs": [],
   "source": [
    "import os\n",
    "import pickle\n",
    "\n",
    "import numpy as np\n",
    "import pandas as pd\n",
    "import arviz as az\n",
    "import xarray as xr\n",
    "\n",
    "import matplotlib.pyplot as plt\n",
    "import matplotlib as mpl\n",
    "%matplotlib inline\n",
    "\n",
    "import pystan\n",
    "%load_ext jupyterstan\n",
    "\n",
    "PROJECT_ROOT_DIR = \".\"\n",
    "IMAGES_PATH = os.path.join(PROJECT_ROOT_DIR, \"images\")\n",
    "STAN_MODEL_PATH = os.path.join(PROJECT_ROOT_DIR, \"stan_models\")\n",
    "STAN_DATA_PATH = os.path.join(PROJECT_ROOT_DIR,'data')\n",
    "\n",
    "from stan_utils import *"
   ]
  },
  {
   "cell_type": "markdown",
   "metadata": {},
   "source": [
    " $E\\left[\\mathbf{Y}_{1} | \\mathbf{Y}_{2}\\right]=\\boldsymbol{\\mu}_{1}+\\Omega_{12} \\Omega_{22}^{-1}\\left(\\mathbf{Y}_{2}-\\boldsymbol{\\mu}_{2}\\right) $\n",
    " \n",
    " $ \\operatorname{Var}\\left[\\mathbf{Y}_{1} | \\mathbf{Y}_{2}\\right]=\\Omega_{11}-\\Omega_{12} \\Omega_{22}^{-1} \\Omega_{21} $"
   ]
  },
  {
   "cell_type": "code",
   "execution_count": null,
   "metadata": {},
   "outputs": [
    {
     "name": "stderr",
     "output_type": "stream",
     "text": [
      "INFO:pystan:COMPILING THE C++ CODE FOR MODEL prediction_model_knowpowerlocation_ba3e783e245b86d3c2d85e9ea1d9ecad NOW.\n"
     ]
    },
    {
     "name": "stdout",
     "output_type": "stream",
     "text": [
      "Creating pystan model & assigning it to variable name \"prediction_model_knowpowerlocation\".\n",
      "Stan options:\n",
      " {'model_name': 'prediction_model_knowpowerlocation', 'include_paths': None, 'boost_lib': None, 'eigen_lib': None, 'verbose': False, 'obfuscate_model_name': True}\n"
     ]
    }
   ],
   "source": [
    "%%stan prediction_model_knowpowerlocation\n",
    "functions {\n",
    "  matrix cov_matern32_tv(vector[] x, vector[] y, real alpha, real rho) {\n",
    "    int N_x=size(x);\n",
    "    int N_y=size(y);\n",
    "    matrix[N_x, N_y] cov;\n",
    "    for (i in 1:N_x){\n",
    "      for (j in 1:N_y){\n",
    "        cov[i,j] = square(alpha) * (1 + distance(x[i],y[j])/rho) * exp(-1*distance(x[i], y[j]) / rho);\n",
    "      }\n",
    "    }    \n",
    "    return cov;\n",
    "  }\n",
    "  \n",
    "  matrix cov_matern32(vector[] x,  real alpha, real rho) {\n",
    "    int N=size(x);\n",
    "    matrix[N, N] cov;\n",
    "    for (i in 1:N){\n",
    "      for (j in i:N){\n",
    "          cov[i,j] = square(alpha) * (1 + distance(x[i],x[j])/rho) * exp(-1*distance(x[i], x[j]) / rho);\n",
    "          cov[j,i] = cov[i, j];\n",
    "      }\n",
    "    }    \n",
    "    return cov;\n",
    "  }\n",
    "  \n",
    "  vector gp_pred_rng(vector[] x1, vector y2, vector[] x2, real gama, real fai, real sigma, real sigma_eta, real trans_power, vector trans_location) {\n",
    "    int N1 = size(x1);\n",
    "    int N2 = size(x2);\n",
    "    vector[N1] y1;\n",
    "    {\n",
    "      matrix [N2, N2] L_K_2;\n",
    "      vector[N2] K_div_y2;\n",
    "      matrix [N2, N1] K_x2_x1;\n",
    "      matrix [N2, N1] v_pred;\n",
    "      vector [N1] y1_mu;\n",
    "      vector [N1] mu1;\n",
    "      vector [N2] mu2;\n",
    "      matrix [N1, N1] y1_cov;\n",
    "      matrix [N2, N2] K_2;\n",
    "      K_2 = cov_matern32(x2, sigma, fai);\n",
    "      \n",
    "      for (n in 1:N2) {\n",
    "        K_2[n, n] = K_2[n, n] + square(sigma_eta);\n",
    "        mu2[n] = trans_power - 10 * gama * log10(distance(trans_location, x2[n]));\n",
    "      }\n",
    "      \n",
    "      for (n in 1:N1) {\n",
    "        mu1[n] = trans_power -10 * gama * log10(distance(trans_location, x1[n]));\n",
    "      }\n",
    "      \n",
    "      \n",
    "      L_K_2 = cholesky_decompose(K_2);\n",
    "      K_div_y2 = mdivide_left_tri_low(L_K_2, y2 - mu2);\n",
    "      K_div_y2 = mdivide_right_tri_low(K_div_y2', L_K_2)';\n",
    "      K_x2_x1 = cov_matern32_tv(x2, x1, sigma, fai);\n",
    "      y1_mu = mu1 + K_x2_x1' * K_div_y2;\n",
    "      v_pred = mdivide_left_tri_low(L_K_2, K_x2_x1);\n",
    "      y1_cov = cov_matern32(x1, sigma, fai) - v_pred' * v_pred;\n",
    "      y1 = multi_normal_rng(y1_mu, y1_cov);\n",
    "    }\n",
    "    return y1;\n",
    "  }\n",
    "}\n",
    "\n",
    "data {\n",
    "  int<lower=1> N_pred; //需要预测的点个数\n",
    "  vector[N_pred] pred_coord_x;// 每组数据有N个感知节点\n",
    "  vector[N_pred] pred_coord_y;// \n",
    "  int<lower=1> N;\n",
    "  vector[N] coord_x;\n",
    "  vector[N] coord_y;\n",
    "  vector[N] Y_observe;\n",
    "  real trans_power; //信号源发送功率\n",
    "  real trans_x; //信号源坐标\n",
    "  real trans_y;\n",
    "  \n",
    "  int <lower=1> N_samples;\n",
    "  vector[N_samples] gama; // 自由空间传播损耗因子\n",
    "  vector[N_samples] fai;  // matern 协方差函数的距离 参数\n",
    "  vector[N_samples] sigma; // 空间方差  \n",
    "  vector[N_samples] sigma_eta; // 测量误差\n",
    " \n",
    "}\n",
    "\n",
    "transformed data {\n",
    "  vector[2] points[N];\n",
    "  vector[2] points_pred[N_pred];\n",
    "  vector[2] trans_location;\n",
    "  \n",
    "  for (i in 1:N) {\n",
    "    points[i][1] = coord_x[i];\n",
    "    points[i][2] = coord_y[i];\n",
    "  }\n",
    "  \n",
    "  for (i in 1:N_pred) {\n",
    "    points_pred[i][1] = pred_coord_x[i];\n",
    "    points_pred[i][2] = pred_coord_y[i];\n",
    "  }\n",
    "  \n",
    "  trans_location[1] = trans_x;\n",
    "  trans_location[2] = trans_y;\n",
    "}\n",
    "\n",
    "parameters {\n",
    "}\n",
    "\n",
    "transformed parameters {\n",
    "}\n",
    "\n",
    "model {   \n",
    "}\n",
    "\n",
    "generated quantities {\n",
    "  matrix[N_pred, N_samples] pred_Y;\n",
    "  for (i in 1:N_samples) {\n",
    "    pred_Y[,i] = gp_pred_rng(points_pred, Y_observe, points, gama[i], fai[i], sigma[i], sigma_eta[i], trans_power, trans_location);\n",
    "    }\n",
    "  }"
   ]
  },
  {
   "cell_type": "code",
   "execution_count": 3,
   "metadata": {},
   "outputs": [
    {
     "name": "stdout",
     "output_type": "stream",
     "text": [
      "Model cached as:prediction_model_knowpowerlocation.pkl\n"
     ]
    }
   ],
   "source": [
    "StanModel_cache(prediction_model_knowpowerlocation,'prediction_model_knowpowerlocation')"
   ]
  },
  {
   "cell_type": "code",
   "execution_count": null,
   "metadata": {},
   "outputs": [],
   "source": []
  }
 ],
 "metadata": {
  "kernelspec": {
   "display_name": "Python 3",
   "language": "python",
   "name": "python3"
  },
  "language_info": {
   "codemirror_mode": {
    "name": "ipython",
    "version": 3
   },
   "file_extension": ".py",
   "mimetype": "text/x-python",
   "name": "python",
   "nbconvert_exporter": "python",
   "pygments_lexer": "ipython3",
   "version": "3.7.6"
  }
 },
 "nbformat": 4,
 "nbformat_minor": 4
}
