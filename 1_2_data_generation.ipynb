{
 "cells": [
  {
   "cell_type": "markdown",
   "metadata": {},
   "source": [
    "# 利用1_1的stan模型生成数据"
   ]
  },
  {
   "cell_type": "code",
   "execution_count": 6,
   "metadata": {},
   "outputs": [
    {
     "name": "stdout",
     "output_type": "stream",
     "text": [
      "The jupyterstan extension is already loaded. To reload it, use:\n",
      "  %reload_ext jupyterstan\n"
     ]
    }
   ],
   "source": [
    "import pystan\n",
    "%load_ext jupyterstan\n",
    "\n",
    "import numpy as np\n",
    "import arviz as az\n",
    "import xarray as xr\n",
    "from math import pi\n",
    "\n",
    "import matplotlib.pyplot as plt\n",
    "import matplotlib as mpl\n",
    "%matplotlib inline\n",
    "\n",
    "from stan_utils import *"
   ]
  },
  {
   "cell_type": "markdown",
   "metadata": {},
   "source": [
    "#  要用到的函数"
   ]
  },
  {
   "cell_type": "code",
   "execution_count": 10,
   "metadata": {},
   "outputs": [],
   "source": [
    "def gen_transmmition_data(i_group_num, i_random_seed,l_trans_power):\n",
    "    '''\n",
    "    该函数随机生成生成发送节点的x，y坐标值和发送功率\n",
    "    Parameters\n",
    "        ----------\n",
    "        group_num: int,数据的组数\n",
    "        random_seed: int,随机数种子\n",
    "        l_trans_power: iterable,功率值\n",
    "    Returns\n",
    "        ----------\n",
    "        transmmition_data: xarray格式,dim = (group, var:[x,y,power])\n",
    "    '''\n",
    "    if (len(l_trans_power) != i_group_num):\n",
    "        raise ValueError(\"功率值列表长度应与数据组数一致\")\n",
    "    data = np.zeros((i_group_num, 3))\n",
    "\n",
    "    np.random.seed(i_random_seed)\n",
    "    data[:,0] = 0.5 + np.random.rand(i_group_num)*(499.5-0.5)\n",
    "    data[:,1] = -499.5 + np.random.rand(i_group_num)*(-0.5+499.5)\n",
    "    trans_power = np.array([i for i in l_trans_power])\n",
    "    data[:,2] = trans_power\n",
    "    transmmition_data = xr.DataArray(data,\n",
    "                              dims=('group', 'var'),\n",
    "                              coords={'var':['x','y','power']}\n",
    "                             )\n",
    "    return transmmition_data\n",
    "\n",
    "def recv_power(xr_transmmiton_data, coord_x, coord_y, r_η, fc=700e6):\n",
    "    '''\n",
    "    该函数根据transmmiton_data，节点坐标recv_x, recv_y, 自由空间传播损耗因子η，生成每个节点的接收功率\n",
    "    Parameters\n",
    "        ----------\n",
    "        xr_transmmion_data: xarray,发送节点数据,dims{var,group}\n",
    "        recv_x: np.meshgrid生成的x坐标\n",
    "        recv_y: np.meshgrid生成的y坐标\n",
    "        r_η: real,自由空间传播损耗因子\n",
    "    Returns\n",
    "        ----------\n",
    "        spectrum_data: xarray格式<xarray.DataArray (y: 500, x: 500, group: n)>    \n",
    "    '''\n",
    "    lamda = 3e8/fc\n",
    "    recv_x, recv_y = np.meshgrid(coord_x, coord_y)\n",
    "    groups = xr_transmmiton_data.sizes['group']\n",
    "    temp_array = np.zeros(shape=(groups,len(recv_x), len(recv_y)))\n",
    "    \n",
    "    for group_num in range(groups):\n",
    "        trans_x , trans_y, trans_power = xr_transmmiton_data.sel(group=group_num).values\n",
    "        recv_power = trans_power + 20 * np.log10(lamda/(4 * pi)) - 10 * r_η * np.log10( np.sqrt(np.square(recv_x-trans_x)\n",
    "               +np.square(recv_y-trans_y)) )\n",
    "        temp_array[group_num,:,:] = recv_power\n",
    "    \n",
    "    spectrum_data = xr.DataArray(temp_array,\n",
    "                             dims=('group','y', 'x'),\n",
    "                            coords={'x':coord_x , 'y':coord_y})\n",
    "        \n",
    "    return spectrum_data\n",
    "\n",
    "def stan_data_gen(xr_transmmition_data, xr_sensor_data):\n",
    "    stan_data = {}\n",
    "    stan_data['D'] = xr_transmmition_data.sizes['group']\n",
    "    stan_data['N'] = xr_sensor_data.sizes['x'] * xr_sensor_data.sizes['y']\n",
    "    x,y = np.meshgrid(xr_sensor_data.x.values, xr_sensor_data.y.values)\n",
    "    stan_data['recv_x'] = list(x.flatten())\n",
    "    stan_data['recv_y'] = list(y.flatten())\n",
    "    \n",
    "    stan_data['tran_power'] = list(xr_transmmition_data.sel(var='power').values)\n",
    "    stan_data['tran_x'] = list(xr_transmmition_data.sel(var='x').values)\n",
    "    stan_data['tran_y'] = list(xr_transmmition_data.sel(var='y').values)\n",
    "    \n",
    "    stan_data['tran_recv_distance'] = []\n",
    "    stan_data['Y'] = []\n",
    "    \n",
    "    for group_num in range(xr_sensor_data.sizes['group']):\n",
    "        trans_x , trans_y, _ = xr_transmmition_data.sel(group=group_num).values\n",
    "        distances = np.sqrt(np.square( x - trans_x) + np.square(y-trans_y))\n",
    "        \n",
    "        stan_data['tran_recv_distance'].append(list(distances.flatten()))\n",
    "        stan_data['Y'].append(list(xr_sensor_data.sel(group=group_num).values.flatten()))\n",
    "        \n",
    "    return stan_data"
   ]
  },
  {
   "cell_type": "markdown",
   "metadata": {},
   "source": [
    "#  生成数据"
   ]
  },
  {
   "cell_type": "markdown",
   "metadata": {},
   "source": [
    "## 数据生成函数定义"
   ]
  },
  {
   "cell_type": "code",
   "execution_count": 18,
   "metadata": {},
   "outputs": [],
   "source": [
    "def data_generation(group_num, trans_power, gp_gen_model, random_seed, x_coord_nums=20, y_coord_nums=20,η=3.5, alpha_true=8, rho_true=100, sigma_true=0.2):\n",
    "    '''\n",
    "    生成若干组（group_num）发送数据和接收数据,接收数据是在空间均匀分布的点（由x_coord_nums和y_coord_nums确定坐标轴上取点个数）\n",
    "    Parameters\n",
    "        ----------\n",
    "        group_num: int,生成数据的组数\n",
    "        trans_power: 可迭代的功率值，可以是列表，长度=group_num\n",
    "        random_seed: int,随机数种子\n",
    "        gp_gen_model: 用于生成空间高斯过程数据的stan模型,可以是'gen_exp' 'gen_matern32'（在models文件夹中）\n",
    "        x_coord_nums: 20\n",
    "        y_coord_nums: 20       \n",
    "        η: 自由空间传播损耗因子\n",
    "        alpha_true: 3\n",
    "        rho_true: 100\n",
    "        sigma_true: 0.2\n",
    "       \n",
    "    Returns\n",
    "        ----------\n",
    "        data:dict\n",
    "          'trans_data': xarray格式,dim = (group, var:[x,y,power]),每组对应一个发送点的x，y坐标和发送功率值\n",
    "          ’true_recv_power‘: xarray格式，dim=('group','y', 'x'),表示对应trans_data某组坐标（x，y）处的接收功率，不考虑误差\n",
    "          ’sensored_power':xarray格式，dim=('group','y', 'x')，表示在（x，y）处设置感知设备的接收功率，考虑误差       \n",
    "    '''\n",
    "    \n",
    "    # 设置参数值\n",
    "    coord_x = np.arange(0.5, 500, 499.5//x_coord_nums + 1 )\n",
    "    coord_y = np.arange(-499.5, 0, 499.5//y_coord_nums + 1)\n",
    "\n",
    "    x,y = np.meshgrid(coord_x, coord_y)\n",
    "    x_total = []\n",
    "    for x, y in zip(x.flatten(), y.flatten()):\n",
    "        x_total.append([x,y])\n",
    "\n",
    "    simu_data = dict(N=x_coord_nums * y_coord_nums,\n",
    "                     x=x_total, alpha=alpha_true,\n",
    "                     rho=rho_true,\n",
    "                     sigma=sigma_true)\n",
    "    \n",
    "    # 读入生成空间相关数的stan模型\n",
    "    model = StanModel_load(gp_gen_model)\n",
    "    gp_data_gen = model.sampling(data=simu_data,\n",
    "                                      iter=1,\n",
    "                                      chains=group_num, \n",
    "                                      algorithm=\"Fixed_param\")\n",
    "    \n",
    "    gp_data = gp_data_gen.extract()\n",
    "    \n",
    "    # 生成发送数据\n",
    "    trans_data = gen_transmmition_data(group_num, random_seed, trans_power)\n",
    "    \n",
    "    # 生成自由空间传播的数据\n",
    "    recv_data_free_loss = recv_power(trans_data, coord_x, coord_y, η)\n",
    "    \n",
    "    # 生成阴影衰落数据\n",
    "    true_recv_power = recv_data_free_loss + gp_data['f'].reshape(group_num, x_coord_nums, y_coord_nums)\n",
    "    \n",
    "    # 生成感知数据\n",
    "    sensored_power = recv_data_free_loss + gp_data['y'].reshape(group_num, x_coord_nums, y_coord_nums)\n",
    "        \n",
    "    data={}\n",
    "    data['trans_data'] = trans_data\n",
    "    data['recv_data_free_loss'] = recv_data_free_loss\n",
    "    data['true_recv_power'] = true_recv_power\n",
    "    data['sensored_power'] = sensored_power\n",
    "    return data\n",
    "    "
   ]
  },
  {
   "cell_type": "markdown",
   "metadata": {},
   "source": [
    "## ——————华丽的分割线—————— Warning：以下数据以及生成，不要重复执行"
   ]
  },
  {
   "cell_type": "markdown",
   "metadata": {
    "heading_collapsed": true
   },
   "source": [
    "### 1.生成10组数据"
   ]
  },
  {
   "cell_type": "code",
   "execution_count": 4,
   "metadata": {
    "hidden": true
   },
   "outputs": [
    {
     "name": "stdout",
     "output_type": "stream",
     "text": [
      "Using cached StanModel:gen_matern32\n"
     ]
    },
    {
     "data": {
      "text/plain": [
       "dict_keys(['trans_data', 'recv_data_free_loss', 'true_recv_power', 'sensored_power'])"
      ]
     },
     "execution_count": 4,
     "metadata": {},
     "output_type": "execute_result"
    }
   ],
   "source": [
    "data_10groups  = data_generation(group_num=10,\n",
    "                           trans_power=30*np.ones(10), \n",
    "                           gp_gen_model='gen_matern32',\n",
    "                           random_seed=13)\n",
    "data_10groups.keys()"
   ]
  },
  {
   "cell_type": "code",
   "execution_count": 5,
   "metadata": {
    "hidden": true
   },
   "outputs": [],
   "source": [
    "stan_data_10groups = stan_data_gen(data_10groups['trans_data'], data_10groups['sensored_power'][:,::2,::2])"
   ]
  },
  {
   "cell_type": "code",
   "execution_count": 6,
   "metadata": {
    "hidden": true
   },
   "outputs": [
    {
     "name": "stdout",
     "output_type": "stream",
     "text": [
      "DATA cached as:data_10groups.pkl\n",
      "DATA cached as:stan_data_10groups.pkl\n"
     ]
    }
   ],
   "source": [
    "StanData_cache(data_10groups, 'data_10groups')\n",
    "StanData_cache(stan_data_10groups, 'stan_data_10groups')"
   ]
  },
  {
   "cell_type": "markdown",
   "metadata": {
    "heading_collapsed": true
   },
   "source": [
    "### 2.生成20组数据"
   ]
  },
  {
   "cell_type": "code",
   "execution_count": 7,
   "metadata": {
    "hidden": true
   },
   "outputs": [
    {
     "name": "stdout",
     "output_type": "stream",
     "text": [
      "Using cached StanModel:gen_matern32\n"
     ]
    },
    {
     "data": {
      "text/plain": [
       "dict_keys(['trans_data', 'recv_data_free_loss', 'true_recv_power', 'sensored_power'])"
      ]
     },
     "execution_count": 7,
     "metadata": {},
     "output_type": "execute_result"
    }
   ],
   "source": [
    "data_20groups  = data_generation(group_num=20,\n",
    "                           trans_power=30*np.ones(20), \n",
    "                           gp_gen_model='gen_matern32',\n",
    "                           random_seed=1234)\n",
    "data_20groups.keys()"
   ]
  },
  {
   "cell_type": "code",
   "execution_count": 8,
   "metadata": {
    "hidden": true
   },
   "outputs": [],
   "source": [
    "stan_data_20groups = stan_data_gen(data_20groups['trans_data'], data_20groups['sensored_power'][:,::2,::2])"
   ]
  },
  {
   "cell_type": "code",
   "execution_count": 9,
   "metadata": {
    "hidden": true
   },
   "outputs": [
    {
     "name": "stdout",
     "output_type": "stream",
     "text": [
      "DATA cached as:data_20groups.pkl\n",
      "DATA cached as:stan_data_20groups.pkl\n"
     ]
    }
   ],
   "source": [
    "StanData_cache(data_20groups, 'data_20groups')\n",
    "StanData_cache(stan_data_20groups, 'stan_data_20groups')"
   ]
  },
  {
   "cell_type": "markdown",
   "metadata": {
    "heading_collapsed": true
   },
   "source": [
    "### 3.生成100组数据"
   ]
  },
  {
   "cell_type": "code",
   "execution_count": 7,
   "metadata": {
    "hidden": true
   },
   "outputs": [
    {
     "name": "stdout",
     "output_type": "stream",
     "text": [
      "Using cached StanModel:gen_matern32\n"
     ]
    },
    {
     "data": {
      "text/plain": [
       "dict_keys(['trans_data', 'recv_data_free_loss', 'true_recv_power', 'sensored_power'])"
      ]
     },
     "execution_count": 7,
     "metadata": {},
     "output_type": "execute_result"
    }
   ],
   "source": [
    "data_100groups  = data_generation(group_num=100,\n",
    "                           trans_power=30*np.ones(100), \n",
    "                           gp_gen_model='gen_matern32',\n",
    "                           random_seed=30)\n",
    "data_100groups.keys()"
   ]
  },
  {
   "cell_type": "code",
   "execution_count": 8,
   "metadata": {
    "hidden": true
   },
   "outputs": [],
   "source": [
    "stan_data_100groups = stan_data_gen(data_100groups['trans_data'], data_100groups['sensored_power'][:,::2,::2])"
   ]
  },
  {
   "cell_type": "code",
   "execution_count": 9,
   "metadata": {
    "hidden": true
   },
   "outputs": [
    {
     "name": "stdout",
     "output_type": "stream",
     "text": [
      "DATA cached as:data_100groups.pkl\n",
      "DATA cached as:stan_data_100groups.pkl\n"
     ]
    }
   ],
   "source": [
    "StanData_cache(data_100groups, 'data_100groups')\n",
    "StanData_cache(stan_data_100groups, 'stan_data_100groups')"
   ]
  },
  {
   "cell_type": "markdown",
   "metadata": {
    "heading_collapsed": true
   },
   "source": [
    "### 4.生成1000组数据"
   ]
  },
  {
   "cell_type": "code",
   "execution_count": 10,
   "metadata": {
    "hidden": true
   },
   "outputs": [
    {
     "name": "stdout",
     "output_type": "stream",
     "text": [
      "Using cached StanModel:gen_matern32\n"
     ]
    },
    {
     "data": {
      "text/plain": [
       "dict_keys(['trans_data', 'recv_data_free_loss', 'true_recv_power', 'sensored_power'])"
      ]
     },
     "execution_count": 10,
     "metadata": {},
     "output_type": "execute_result"
    }
   ],
   "source": [
    "data_1000groups  = data_generation(group_num=1000,\n",
    "                           trans_power=30*np.ones(1000), \n",
    "                           gp_gen_model='gen_matern32',\n",
    "                           random_seed=1234)\n",
    "data_1000groups.keys()"
   ]
  },
  {
   "cell_type": "code",
   "execution_count": 11,
   "metadata": {
    "hidden": true
   },
   "outputs": [],
   "source": [
    "stan_data_1000groups = stan_data_gen(data_1000groups['trans_data'], data_1000groups['sensored_power'][:,::2,::2])"
   ]
  },
  {
   "cell_type": "code",
   "execution_count": 12,
   "metadata": {
    "hidden": true
   },
   "outputs": [
    {
     "name": "stdout",
     "output_type": "stream",
     "text": [
      "DATA cached as:data_1000groups.pkl\n",
      "DATA cached as:stan_data_1000groups.pkl\n"
     ]
    }
   ],
   "source": [
    "StanData_cache(data_1000groups, 'data_1000groups')\n",
    "StanData_cache(stan_data_1000groups, 'stan_data_1000groups')"
   ]
  },
  {
   "cell_type": "markdown",
   "metadata": {},
   "source": [
    "### 数据量成2 的 n 次方增加：8， 16， 32， 64， 128， 256， 512， 1024"
   ]
  },
  {
   "cell_type": "code",
   "execution_count": 19,
   "metadata": {},
   "outputs": [
    {
     "name": "stdout",
     "output_type": "stream",
     "text": [
      "Using cached StanModel:gen_matern32\n",
      "DATA cached as:data_8groups.pkl\n",
      "DATA cached as:stan_data_8groups.pkl\n",
      "Using cached StanModel:gen_matern32\n",
      "DATA cached as:data_16groups.pkl\n",
      "DATA cached as:stan_data_16groups.pkl\n",
      "Using cached StanModel:gen_matern32\n",
      "DATA cached as:data_32groups.pkl\n",
      "DATA cached as:stan_data_32groups.pkl\n",
      "Using cached StanModel:gen_matern32\n",
      "DATA cached as:data_64groups.pkl\n",
      "DATA cached as:stan_data_64groups.pkl\n",
      "Using cached StanModel:gen_matern32\n",
      "DATA cached as:data_128groups.pkl\n",
      "DATA cached as:stan_data_128groups.pkl\n",
      "Using cached StanModel:gen_matern32\n",
      "DATA cached as:data_256groups.pkl\n",
      "DATA cached as:stan_data_256groups.pkl\n",
      "Using cached StanModel:gen_matern32\n",
      "DATA cached as:data_512groups.pkl\n",
      "DATA cached as:stan_data_512groups.pkl\n",
      "Using cached StanModel:gen_matern32\n",
      "DATA cached as:data_1024groups.pkl\n",
      "DATA cached as:stan_data_1024groups.pkl\n"
     ]
    }
   ],
   "source": [
    "for n in range(3,11):\n",
    "    group_num = 2**n\n",
    "    data = data_generation(group_num = group_num, trans_power=30*np.ones(group_num),\n",
    "                          gp_gen_model='gen_matern32',\n",
    "                          random_seed = group_num)\n",
    "    stan_data = stan_data_gen(data['trans_data'], data['sensored_power'][:,::2,::2])\n",
    "    data_name = 'data_' + str(group_num) + 'groups'\n",
    "    stan_data_name = 'stan_data_' + str(group_num) + 'groups'\n",
    "    StanData_cache(data, data_name)\n",
    "    StanData_cache(stan_data, stan_data_name)"
   ]
  },
  {
   "cell_type": "code",
   "execution_count": 17,
   "metadata": {},
   "outputs": [
    {
     "data": {
      "text/plain": [
       "-29.343732986333816"
      ]
     },
     "execution_count": 17,
     "metadata": {},
     "output_type": "execute_result"
    }
   ],
   "source": [
    "20 * np.log10(3e8/700e6/(4 * pi))"
   ]
  },
  {
   "cell_type": "code",
   "execution_count": 14,
   "metadata": {},
   "outputs": [
    {
     "data": {
      "text/plain": [
       "31.622776601683793"
      ]
     },
     "execution_count": 14,
     "metadata": {},
     "output_type": "execute_result"
    }
   ],
   "source": [
    "10**(30/20)"
   ]
  },
  {
   "cell_type": "code",
   "execution_count": null,
   "metadata": {},
   "outputs": [],
   "source": []
  }
 ],
 "metadata": {
  "kernelspec": {
   "display_name": "Python 3",
   "language": "python",
   "name": "python3"
  },
  "language_info": {
   "codemirror_mode": {
    "name": "ipython",
    "version": 3
   },
   "file_extension": ".py",
   "mimetype": "text/x-python",
   "name": "python",
   "nbconvert_exporter": "python",
   "pygments_lexer": "ipython3",
   "version": "3.7.6"
  }
 },
 "nbformat": 4,
 "nbformat_minor": 4
}
