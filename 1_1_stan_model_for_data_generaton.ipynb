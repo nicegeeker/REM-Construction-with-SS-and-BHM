{
 "cells": [
  {
   "cell_type": "markdown",
   "metadata": {},
   "source": [
    "#  利用stan生成GP数据"
   ]
  },
  {
   "cell_type": "markdown",
   "metadata": {},
   "source": [
    "用stan模型生成Gaussion Process 数据\n",
    "用于产生stan模型，并保存为文件：\n",
    "\n",
    "1. gen_exp.plk: 指数相关函数\n",
    "\n",
    "2. gen_matern32.pkl: mater3/2相关函数"
   ]
  },
  {
   "cell_type": "code",
   "execution_count": 1,
   "metadata": {},
   "outputs": [],
   "source": [
    "import pystan\n",
    "%load_ext jupyterstan\n",
    "\n",
    "import numpy as np\n",
    "\n",
    "import matplotlib.pyplot as plt\n",
    "import matplotlib as mpl\n",
    "%matplotlib inline\n",
    "\n",
    "from stan_utils import *"
   ]
  },
  {
   "cell_type": "markdown",
   "metadata": {},
   "source": [
    "## 构建stan模型"
   ]
  },
  {
   "cell_type": "markdown",
   "metadata": {
    "heading_collapsed": true
   },
   "source": [
    "### 指数相关函数模型"
   ]
  },
  {
   "cell_type": "markdown",
   "metadata": {
    "hidden": true
   },
   "source": [
    "$$ C(d) = \\alpha^{2} exp(-\\frac{d}{\\rho}) $$"
   ]
  },
  {
   "cell_type": "code",
   "execution_count": 6,
   "metadata": {
    "hidden": true
   },
   "outputs": [
    {
     "name": "stderr",
     "output_type": "stream",
     "text": [
      "INFO:pystan:COMPILING THE C++ CODE FOR MODEL gen_exp_573dd760c5907e4eb43fba0b386fd0cf NOW.\n"
     ]
    },
    {
     "name": "stdout",
     "output_type": "stream",
     "text": [
      "Creating pystan model & assigning it to variable name \"gen_exp\".\n",
      "Stan options:\n",
      " {'model_name': 'gen_exp', 'include_paths': None, 'boost_lib': None, 'eigen_lib': None, 'verbose': False, 'obfuscate_model_name': True}\n",
      "StanModel now available as variable \"gen_exp\"!\n",
      "Compilation took a minute.\n"
     ]
    }
   ],
   "source": [
    "%%stan gen_exp\n",
    "functions {\n",
    "  matrix cov_exp(vector[] x, real alpha, real rho) {\n",
    "    int N=size(x);\n",
    "    matrix[N, N] cov;\n",
    "    for (i in 1:N){\n",
    "      for (j in i:N){\n",
    "          cov[i,j] = square(alpha) * exp(-1*distance(x[i], x[j]) / rho);\n",
    "          cov[j,i] = cov[i, j];\n",
    "      }\n",
    "    }    \n",
    "    return cov;\n",
    "  }\n",
    "}\n",
    "data {\n",
    "  int<lower=1> N;\n",
    "  vector[2] x[N];\n",
    "  \n",
    "  real<lower=0> alpha;\n",
    "  real<lower=0> rho;\n",
    "  real<lower=0> sigma;\n",
    "}\n",
    "\n",
    "transformed data {\n",
    "  matrix[N, N] cov = cov_exp(x, alpha, rho) + diag_matrix(rep_vector(1e-10, N));\n",
    "  \n",
    "  matrix[N, N] L_cov = cholesky_decompose(cov);\n",
    "}\n",
    "\n",
    "parameters {}\n",
    "model {}\n",
    "\n",
    "generated quantities {\n",
    "  vector[N] f = multi_normal_cholesky_rng(rep_vector(0,N), L_cov);\n",
    "  vector[N] y;\n",
    "  for (n in 1:N){\n",
    "    y[n] = normal_rng(f[n], sigma);\n",
    "  }\n",
    "}"
   ]
  },
  {
   "cell_type": "code",
   "execution_count": 18,
   "metadata": {
    "hidden": true
   },
   "outputs": [
    {
     "name": "stdout",
     "output_type": "stream",
     "text": [
      "Model cached as:gen_exp.pkl\n"
     ]
    }
   ],
   "source": [
    "StanModel_cache(gen_exp, 'gen_exp')"
   ]
  },
  {
   "cell_type": "markdown",
   "metadata": {},
   "source": [
    "### matern32模型"
   ]
  },
  {
   "cell_type": "markdown",
   "metadata": {},
   "source": [
    "$$ C(d) = \\alpha^{2}(1+\\frac{d}{\\rho}) exp(-\\frac{d}{\\rho}) $$"
   ]
  },
  {
   "cell_type": "code",
   "execution_count": 20,
   "metadata": {},
   "outputs": [
    {
     "name": "stderr",
     "output_type": "stream",
     "text": [
      "INFO:pystan:COMPILING THE C++ CODE FOR MODEL gen_matern32_7d446a1ecb6fb7776885eaf3a5461ad5 NOW.\n"
     ]
    },
    {
     "name": "stdout",
     "output_type": "stream",
     "text": [
      "Creating pystan model & assigning it to variable name \"gen_matern32\".\n",
      "Stan options:\n",
      " {'model_name': 'gen_matern32', 'include_paths': None, 'boost_lib': None, 'eigen_lib': None, 'verbose': False, 'obfuscate_model_name': True}\n",
      "StanModel now available as variable \"gen_matern32\"!\n",
      "Compilation took a minute.\n"
     ]
    }
   ],
   "source": [
    "%%stan gen_matern32\n",
    "functions {\n",
    "  matrix cov_matern32(vector[] x, real alpha, real rho) {\n",
    "    int N=size(x);\n",
    "    matrix[N, N] cov;\n",
    "    for (i in 1:N){\n",
    "      for (j in i:N){\n",
    "          cov[i,j] = square(alpha) * (1 + distance(x[i],x[j])/rho) * exp(-1*distance(x[i], x[j]) / rho);\n",
    "          cov[j,i] = cov[i, j];\n",
    "      }\n",
    "    }    \n",
    "    return cov;\n",
    "  }\n",
    "}\n",
    "data {\n",
    "  int<lower=1> N;\n",
    "  vector[2] x[N];\n",
    "  \n",
    "  real<lower=0> alpha;\n",
    "  real<lower=0> rho;\n",
    "  real<lower=0> sigma;\n",
    "}\n",
    "\n",
    "transformed data {\n",
    "  matrix[N, N] cov = cov_matern32(x, alpha, rho) + diag_matrix(rep_vector(1e-10, N));\n",
    "  \n",
    "  matrix[N, N] L_cov = cholesky_decompose(cov);\n",
    "}\n",
    "\n",
    "parameters {}\n",
    "model {}\n",
    "\n",
    "generated quantities {\n",
    "  vector[N] f = multi_normal_cholesky_rng(rep_vector(0,N), L_cov);\n",
    "  vector[N] y;\n",
    "  for (n in 1:N){\n",
    "    y[n] = normal_rng(f[n], sigma);\n",
    "  }\n",
    "}"
   ]
  },
  {
   "cell_type": "code",
   "execution_count": 21,
   "metadata": {},
   "outputs": [
    {
     "name": "stdout",
     "output_type": "stream",
     "text": [
      "Model cached as:gen_matern32.pkl\n"
     ]
    }
   ],
   "source": [
    "StanModel_cache(gen_matern32, 'gen_matern32')"
   ]
  },
  {
   "cell_type": "markdown",
   "metadata": {},
   "source": [
    "### matern52模型"
   ]
  },
  {
   "cell_type": "code",
   "execution_count": null,
   "metadata": {},
   "outputs": [],
   "source": []
  }
 ],
 "metadata": {
  "kernelspec": {
   "display_name": "Python 3",
   "language": "python",
   "name": "python3"
  },
  "language_info": {
   "codemirror_mode": {
    "name": "ipython",
    "version": 3
   },
   "file_extension": ".py",
   "mimetype": "text/x-python",
   "name": "python",
   "nbconvert_exporter": "python",
   "pygments_lexer": "ipython3",
   "version": "3.7.6"
  }
 },
 "nbformat": 4,
 "nbformat_minor": 4
}
