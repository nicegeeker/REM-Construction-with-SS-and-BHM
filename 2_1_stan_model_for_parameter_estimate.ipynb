{
 "cells": [
  {
   "cell_type": "code",
   "execution_count": 2,
   "metadata": {},
   "outputs": [],
   "source": [
    "import os\n",
    "import pickle\n",
    "\n",
    "import numpy as np\n",
    "import pandas as pd\n",
    "import arviz as az\n",
    "import xarray as xr\n",
    "\n",
    "import matplotlib.pyplot as plt\n",
    "import matplotlib as mpl\n",
    "%matplotlib inline\n",
    "\n",
    "import pystan\n",
    "%load_ext jupyterstan\n",
    "\n",
    "PROJECT_ROOT_DIR = \".\"\n",
    "IMAGES_PATH = os.path.join(PROJECT_ROOT_DIR, \"images\")\n",
    "STAN_MODEL_PATH = os.path.join(PROJECT_ROOT_DIR, \"stan_models\")\n",
    "STAN_DATA_PATH = os.path.join(PROJECT_ROOT_DIR,'data')\n",
    "\n",
    "from stan_utils import *"
   ]
  },
  {
   "cell_type": "code",
   "execution_count": null,
   "metadata": {},
   "outputs": [
    {
     "name": "stderr",
     "output_type": "stream",
     "text": [
      "INFO:pystan:COMPILING THE C++ CODE FOR MODEL matern_cov_error_482edcc8f642041b3f7dadd82a3038d2 NOW.\n"
     ]
    },
    {
     "name": "stdout",
     "output_type": "stream",
     "text": [
      "Creating pystan model & assigning it to variable name \"matern_cov_error\".\n",
      "Stan options:\n",
      " {'model_name': 'matern_cov_error', 'include_paths': None, 'boost_lib': None, 'eigen_lib': None, 'verbose': False, 'obfuscate_model_name': True}\n"
     ]
    }
   ],
   "source": [
    "%%stan matern_cov_error\n",
    "functions {\n",
    "  matrix cov_matern32(vector[] x, real alpha, real phi) {\n",
    "    int N=size(x);\n",
    "    matrix[N, N] cov;\n",
    "    for (i in 1:N){\n",
    "      for (j in i:N){\n",
    "          cov[i,j] = square(alpha) * (1 + distance(x[i],x[j]) / phi) * exp(-1*distance(x[i], x[j]) / phi);\n",
    "          cov[j,i] = cov[i, j];\n",
    "      }\n",
    "    }    \n",
    "    return cov;\n",
    "  }\n",
    "}\n",
    "\n",
    "data {\n",
    "  int<lower=1> D; //数据组数\n",
    "  int<lower=1> N; //感知节点个数\n",
    "  vector[N] recv_x;// 每组数据有N个感知节点\n",
    "  vector[N] recv_y;// \n",
    "  real tran_power[D]; //信号源发送功率\n",
    "  real tran_x[D]; //信号源坐标\n",
    "  real tran_y[D];\n",
    "  vector[N] tran_recv_distance[D];\n",
    "  vector[N] Y[D];\n",
    " \n",
    "}\n",
    "\n",
    "transformed data {\n",
    "  matrix[N, N] distance_between_recv;\n",
    "  vector[2] points[N];\n",
    "  for (i in 1:N){\n",
    "    for (j in 1:N){\n",
    "      distance_between_recv[i,j] = sqrt((recv_x[i]-recv_x[j])^2 + (recv_y[i]-recv_y[j])^2);\n",
    "    }\n",
    "  }\n",
    "  for (i in 1:N) {\n",
    "    points[i][1] = recv_x[i];\n",
    "    points[i][2] = recv_y[i];\n",
    "  }\n",
    "}\n",
    "\n",
    "parameters {\n",
    "  real<lower=0> gama; // 自由空间传播损耗因子\n",
    "  real<lower=0> fai;  // matern 协方差函数的距离 参数\n",
    "  real<lower=0> sigma; // 空间方差  \n",
    "  real<lower=0> sigma_eta; // 测量误差\n",
    "}\n",
    "transformed parameters {\n",
    "\n",
    "\n",
    "}\n",
    "\n",
    "model {\n",
    "  vector[N] mu[D];\n",
    "  matrix[N,N] bigSigma;\n",
    "  matrix[N,N] L_K;\n",
    "  real sigma_eta2;\n",
    "   \n",
    "  /********************/\n",
    "  /*    指定先验分布    */\n",
    "  /********************/\n",
    "  gama ~ normal(4, 4);\n",
    "  fai ~ gamma(1, 0.01);\n",
    "  sigma ~ inv_gamma(2, 10);\n",
    "  sigma_eta ~ inv_gamma(2, 10);\n",
    "  \n",
    " \n",
    "  bigSigma = cov_matern32(points, sigma, fai);\n",
    "  \n",
    "  sigma_eta2 = square(sigma_eta);\n",
    "  for (n in 1:N) {\n",
    "    bigSigma[n, n] = bigSigma[n, n] + sigma_eta2;\n",
    "  }\n",
    "  \n",
    "  L_K = cholesky_decompose(bigSigma);\n",
    "   \n",
    "  for (i in 1:D){\n",
    "    mu[i] = tran_power[i] - 10 * gama * log10(tran_recv_distance[i]);\n",
    "    Y[i] ~ multi_normal_cholesky(mu[i], L_K); \n",
    "  }\n",
    "   \n",
    "}"
   ]
  },
  {
   "cell_type": "code",
   "execution_count": 15,
   "metadata": {},
   "outputs": [
    {
     "name": "stdout",
     "output_type": "stream",
     "text": [
      "Model cached as:matern_cov_error.pkl\n"
     ]
    }
   ],
   "source": [
    "StanModel_cache(matern_cov_error, 'matern_cov_error')"
   ]
  },
  {
   "cell_type": "code",
   "execution_count": 5,
   "metadata": {},
   "outputs": [
    {
     "name": "stderr",
     "output_type": "stream",
     "text": [
      "INFO:pystan:COMPILING THE C++ CODE FOR MODEL matern_cov_error_reparameter_22fa18ebd80a802ffcc7b6afba46cae2 NOW.\n"
     ]
    },
    {
     "name": "stdout",
     "output_type": "stream",
     "text": [
      "Creating pystan model & assigning it to variable name \"matern_cov_error_reparameter\".\n",
      "Stan options:\n",
      " {'model_name': 'matern_cov_error_reparameter', 'include_paths': None, 'boost_lib': None, 'eigen_lib': None, 'verbose': False, 'obfuscate_model_name': True}\n",
      "StanModel now available as variable \"matern_cov_error_reparameter\"!\n",
      "Compilation took a minute.\n"
     ]
    }
   ],
   "source": [
    "%%stan matern_cov_error_reparameter\n",
    "functions {\n",
    "  matrix cov_matern32(vector[] x, real alpha, real phi) {\n",
    "    int N=size(x);\n",
    "    matrix[N, N] cov;\n",
    "    for (i in 1:N){\n",
    "      for (j in i:N){\n",
    "          cov[i,j] = square(alpha) * (1 + distance(x[i],x[j]) / phi) * exp(-1*distance(x[i], x[j]) / phi);\n",
    "          cov[j,i] = cov[i, j];\n",
    "      }\n",
    "    }    \n",
    "    return cov;\n",
    "  }\n",
    "}\n",
    "\n",
    "data {\n",
    "  int<lower=1> D; //数据组数\n",
    "  int<lower=1> N; //感知节点个数\n",
    "  vector[N] recv_x;// 每组数据有N个感知节点\n",
    "  vector[N] recv_y;// \n",
    "  real tran_power[D]; //信号源发送功率\n",
    "  real tran_x[D]; //信号源坐标\n",
    "  real tran_y[D];\n",
    "  vector[N] tran_recv_distance[D];\n",
    "  vector[N] Y[D];\n",
    " \n",
    "}\n",
    "\n",
    "transformed data {\n",
    "  matrix[N, N] distance_between_recv;\n",
    "  vector[2] points[N];\n",
    "  for (i in 1:N){\n",
    "    for (j in 1:N){\n",
    "      distance_between_recv[i,j] = sqrt((recv_x[i]-recv_x[j])^2 + (recv_y[i]-recv_y[j])^2);\n",
    "    }\n",
    "  }\n",
    "  for (i in 1:N) {\n",
    "    points[i][1] = recv_x[i];\n",
    "    points[i][2] = recv_y[i];\n",
    "  }\n",
    "}\n",
    "\n",
    "parameters {\n",
    "  real<lower=0> gama; // 自由空间传播损耗因子\n",
    "  real<lower=0> alpha;  // \n",
    "  real<lower=0> eta; // 空间方差  \n",
    "  real<lower=0> sigma_eta; // 测量误差\n",
    "}\n",
    "transformed parameters {\n",
    "  real<lower=0> fai;\n",
    "  real<lower=0> sigma;\n",
    "  fai = 2 * sqrt(3/2) / alpha;\n",
    "  sigma = sqrt(fai^3 * eta);\n",
    "}\n",
    "\n",
    "model {\n",
    "  vector[N] mu[D];\n",
    "  matrix[N,N] bigSigma;\n",
    "  matrix[N,N] L_K;\n",
    "  real sigma_eta2;\n",
    "   \n",
    "  /********************/\n",
    "  /*    指定先验分布    */\n",
    "  /********************/\n",
    "  gama ~ normal(4, 4);\n",
    "  alpha ~ gamma(1, 0.01);\n",
    "  eta ~ inv_gamma(2, 10);\n",
    "  sigma_eta ~ inv_gamma(2, 10);\n",
    "  \n",
    " \n",
    "  bigSigma = cov_matern32(points, sigma, fai);\n",
    "  \n",
    "  sigma_eta2 = square(sigma_eta);\n",
    "  for (n in 1:N) {\n",
    "    bigSigma[n, n] = bigSigma[n, n] + sigma_eta2;\n",
    "  }\n",
    "  \n",
    "  L_K = cholesky_decompose(bigSigma);\n",
    "   \n",
    "  for (i in 1:D){\n",
    "    mu[i] = tran_power[i] - 10 * gama * log10(tran_recv_distance[i]);\n",
    "    Y[i] ~ multi_normal_cholesky(mu[i], L_K); \n",
    "  }\n",
    "   \n",
    "}"
   ]
  },
  {
   "cell_type": "code",
   "execution_count": 6,
   "metadata": {},
   "outputs": [
    {
     "name": "stdout",
     "output_type": "stream",
     "text": [
      "Model cached as:matern_cov_error_reparameter.pkl\n"
     ]
    }
   ],
   "source": [
    "StanModel_cache(matern_cov_error_reparameter, 'matern_cov_error_reparameter')"
   ]
  },
  {
   "cell_type": "code",
   "execution_count": null,
   "metadata": {},
   "outputs": [],
   "source": []
  }
 ],
 "metadata": {
  "kernelspec": {
   "display_name": "Python 3",
   "language": "python",
   "name": "python3"
  },
  "language_info": {
   "codemirror_mode": {
    "name": "ipython",
    "version": 3
   },
   "file_extension": ".py",
   "mimetype": "text/x-python",
   "name": "python",
   "nbconvert_exporter": "python",
   "pygments_lexer": "ipython3",
   "version": "3.7.6"
  }
 },
 "nbformat": 4,
 "nbformat_minor": 4
}
